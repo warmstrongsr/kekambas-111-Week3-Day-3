{
 "cells": [
  {
   "cell_type": "code",
   "execution_count": 8,
   "id": "4cbe9f71",
   "metadata": {},
   "outputs": [],
   "source": [
    "import requests\n",
    "\n",
    "class PokemonApi:\n",
    "    def __init__(self):\n",
    "        self.base_url = \"https://pokeapi.co/api/v2\"\n",
    "    def get_pokemon_info(self, name):\n",
    "        url = f\"{self.base_url}/pokemon/{name}\"\n",
    "        response = requests.get(url)\n",
    "        data = response.json()\n",
    "        name = data[\"name\"]\n",
    "        height = data[\"height\"]\n",
    "        weight = data[\"weight\"]\n",
    "        pokemon_info = {\"name\": name, \"height\": height, \"weight\": weight}\n",
    "        return pokemon_info\n",
    "    def get_pokemon_sentence(self, name):\n",
    "        pokemon_info = self.get_pokemon_info(name)\n",
    "        name = pokemon_info[\"name\"]\n",
    "        height = pokemon_info[\"height\"]\n",
    "        weight = pokemon_info[\"weight\"]\n",
    "        sentence = f\"{name.title()} is a Pokemon that is {height} tall and weighs {weight}.\"\n",
    "        return sentence\n"
   ]
  },
  {
   "cell_type": "code",
   "execution_count": 12,
   "id": "ac440fd9",
   "metadata": {},
   "outputs": [],
   "source": [
    "api = PokemonApi()\n",
    "sentence = api.get_pokemon_sentence(\"clefairy\")\n",
    "print(sentence) \n"
   ]
  },
  {
   "cell_type": "code",
   "execution_count": null,
   "id": "675e7258",
   "metadata": {},
   "outputs": [],
   "source": []
  }
 ],
 "metadata": {
  "kernelspec": {
   "display_name": "Python 3 (ipykernel)",
   "language": "python",
   "name": "python3"
  },
  "language_info": {
   "codemirror_mode": {
    "name": "ipython",
    "version": 3
   },
   "file_extension": ".py",
   "mimetype": "text/x-python",
   "name": "python",
   "nbconvert_exporter": "python",
   "pygments_lexer": "ipython3",
   "version": "3.9.13"
  }
 },
 "nbformat": 4,
 "nbformat_minor": 5
}
